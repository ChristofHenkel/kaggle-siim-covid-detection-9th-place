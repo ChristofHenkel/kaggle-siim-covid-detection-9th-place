{
 "cells": [
  {
   "cell_type": "code",
   "execution_count": 1,
   "id": "d43614e2",
   "metadata": {},
   "outputs": [],
   "source": [
    "import pandas as pd\n",
    "import os\n",
    "from tqdm.notebook import tqdm\n",
    "import shutil\n"
   ]
  },
  {
   "cell_type": "code",
   "execution_count": 2,
   "id": "a1df94e8",
   "metadata": {},
   "outputs": [],
   "source": [
    "DATA_ROOT = '/raid/siim-covid19-detection/'"
   ]
  },
  {
   "cell_type": "code",
   "execution_count": 3,
   "id": "c2178d19",
   "metadata": {},
   "outputs": [
    {
     "data": {
      "text/html": [
       "<div>\n",
       "<style scoped>\n",
       "    .dataframe tbody tr th:only-of-type {\n",
       "        vertical-align: middle;\n",
       "    }\n",
       "\n",
       "    .dataframe tbody tr th {\n",
       "        vertical-align: top;\n",
       "    }\n",
       "\n",
       "    .dataframe thead th {\n",
       "        text-align: right;\n",
       "    }\n",
       "</style>\n",
       "<table border=\"1\" class=\"dataframe\">\n",
       "  <thead>\n",
       "    <tr style=\"text-align: right;\">\n",
       "      <th></th>\n",
       "      <th>id</th>\n",
       "      <th>boxes</th>\n",
       "      <th>label</th>\n",
       "      <th>StudyInstanceUID</th>\n",
       "      <th>series_id</th>\n",
       "      <th>height</th>\n",
       "      <th>width</th>\n",
       "      <th>fold</th>\n",
       "      <th>Negative for Pneumonia</th>\n",
       "      <th>Typical Appearance</th>\n",
       "      <th>Indeterminate Appearance</th>\n",
       "      <th>Atypical Appearance</th>\n",
       "    </tr>\n",
       "  </thead>\n",
       "  <tbody>\n",
       "    <tr>\n",
       "      <th>0</th>\n",
       "      <td>000a312787f2_image</td>\n",
       "      <td>[{'x': 789.28836, 'y': 582.43035, 'width': 102...</td>\n",
       "      <td>opacity 1 789.28836 582.43035 1815.94498 2499....</td>\n",
       "      <td>5776db0cec75</td>\n",
       "      <td>81456c9c5423</td>\n",
       "      <td>3488</td>\n",
       "      <td>4256</td>\n",
       "      <td>3</td>\n",
       "      <td>0</td>\n",
       "      <td>1</td>\n",
       "      <td>0</td>\n",
       "      <td>0</td>\n",
       "    </tr>\n",
       "    <tr>\n",
       "      <th>1</th>\n",
       "      <td>000c3a3f293f_image</td>\n",
       "      <td>NaN</td>\n",
       "      <td>none 1 0 0 1 1</td>\n",
       "      <td>ff0879eb20ed</td>\n",
       "      <td>d8a644cc4f93</td>\n",
       "      <td>2320</td>\n",
       "      <td>2832</td>\n",
       "      <td>3</td>\n",
       "      <td>1</td>\n",
       "      <td>0</td>\n",
       "      <td>0</td>\n",
       "      <td>0</td>\n",
       "    </tr>\n",
       "    <tr>\n",
       "      <th>2</th>\n",
       "      <td>0012ff7358bc_image</td>\n",
       "      <td>[{'x': 677.42216, 'y': 197.97662, 'width': 867...</td>\n",
       "      <td>opacity 1 677.42216 197.97662 1545.21983 1197....</td>\n",
       "      <td>9d514ce429a7</td>\n",
       "      <td>22897cd1daa0</td>\n",
       "      <td>2544</td>\n",
       "      <td>3056</td>\n",
       "      <td>1</td>\n",
       "      <td>0</td>\n",
       "      <td>1</td>\n",
       "      <td>0</td>\n",
       "      <td>0</td>\n",
       "    </tr>\n",
       "    <tr>\n",
       "      <th>3</th>\n",
       "      <td>001398f4ff4f_image</td>\n",
       "      <td>[{'x': 2729, 'y': 2181.33331, 'width': 948.000...</td>\n",
       "      <td>opacity 1 2729 2181.33331 3677.00012 2785.33331</td>\n",
       "      <td>28dddc8559b2</td>\n",
       "      <td>4d47bc042ee6</td>\n",
       "      <td>3520</td>\n",
       "      <td>4280</td>\n",
       "      <td>1</td>\n",
       "      <td>0</td>\n",
       "      <td>0</td>\n",
       "      <td>0</td>\n",
       "      <td>1</td>\n",
       "    </tr>\n",
       "    <tr>\n",
       "      <th>4</th>\n",
       "      <td>001bd15d1891_image</td>\n",
       "      <td>[{'x': 623.23328, 'y': 1050, 'width': 714, 'he...</td>\n",
       "      <td>opacity 1 623.23328 1050 1337.23328 2156 opaci...</td>\n",
       "      <td>dfd9fdd85a3e</td>\n",
       "      <td>49170afa4f27</td>\n",
       "      <td>2800</td>\n",
       "      <td>3408</td>\n",
       "      <td>1</td>\n",
       "      <td>0</td>\n",
       "      <td>1</td>\n",
       "      <td>0</td>\n",
       "      <td>0</td>\n",
       "    </tr>\n",
       "    <tr>\n",
       "      <th>...</th>\n",
       "      <td>...</td>\n",
       "      <td>...</td>\n",
       "      <td>...</td>\n",
       "      <td>...</td>\n",
       "      <td>...</td>\n",
       "      <td>...</td>\n",
       "      <td>...</td>\n",
       "      <td>...</td>\n",
       "      <td>...</td>\n",
       "      <td>...</td>\n",
       "      <td>...</td>\n",
       "      <td>...</td>\n",
       "    </tr>\n",
       "    <tr>\n",
       "      <th>6112</th>\n",
       "      <td>ffcc6edd9445_image</td>\n",
       "      <td>NaN</td>\n",
       "      <td>none 1 0 0 1 1</td>\n",
       "      <td>7e6c68462e06</td>\n",
       "      <td>98011bca5fd2</td>\n",
       "      <td>4240</td>\n",
       "      <td>3480</td>\n",
       "      <td>2</td>\n",
       "      <td>1</td>\n",
       "      <td>0</td>\n",
       "      <td>0</td>\n",
       "      <td>0</td>\n",
       "    </tr>\n",
       "    <tr>\n",
       "      <th>6113</th>\n",
       "      <td>ffd91a2c4ca0_image</td>\n",
       "      <td>NaN</td>\n",
       "      <td>none 1 0 0 1 1</td>\n",
       "      <td>8332bdaddb6e</td>\n",
       "      <td>f346cda52da0</td>\n",
       "      <td>2800</td>\n",
       "      <td>3408</td>\n",
       "      <td>0</td>\n",
       "      <td>1</td>\n",
       "      <td>0</td>\n",
       "      <td>0</td>\n",
       "      <td>0</td>\n",
       "    </tr>\n",
       "    <tr>\n",
       "      <th>6114</th>\n",
       "      <td>ffd9b6cf2961_image</td>\n",
       "      <td>[{'x': 2197.38566, 'y': 841.07361, 'width': 31...</td>\n",
       "      <td>opacity 1 2197.38566 841.07361 2513.80265 1292...</td>\n",
       "      <td>7eed9af03814</td>\n",
       "      <td>668a64e3a5fa</td>\n",
       "      <td>2388</td>\n",
       "      <td>3050</td>\n",
       "      <td>1</td>\n",
       "      <td>0</td>\n",
       "      <td>1</td>\n",
       "      <td>0</td>\n",
       "      <td>0</td>\n",
       "    </tr>\n",
       "    <tr>\n",
       "      <th>6115</th>\n",
       "      <td>ffdc682f7680_image</td>\n",
       "      <td>[{'x': 2729.27083, 'y': 332.26044, 'width': 14...</td>\n",
       "      <td>opacity 1 2729.27083 332.26044 4225.52099 2936...</td>\n",
       "      <td>a0cb0b96fb3d</td>\n",
       "      <td>ccf363aa080f</td>\n",
       "      <td>3488</td>\n",
       "      <td>4256</td>\n",
       "      <td>3</td>\n",
       "      <td>0</td>\n",
       "      <td>1</td>\n",
       "      <td>0</td>\n",
       "      <td>0</td>\n",
       "    </tr>\n",
       "    <tr>\n",
       "      <th>6116</th>\n",
       "      <td>ffe942c8655f_image</td>\n",
       "      <td>[{'x': 208.86463, 'y': 91.53448, 'width': 450....</td>\n",
       "      <td>opacity 1 208.86463 91.53448 659.8321 719.5892...</td>\n",
       "      <td>7d82d53204b8</td>\n",
       "      <td>431ee249d16b</td>\n",
       "      <td>1140</td>\n",
       "      <td>1387</td>\n",
       "      <td>3</td>\n",
       "      <td>0</td>\n",
       "      <td>1</td>\n",
       "      <td>0</td>\n",
       "      <td>0</td>\n",
       "    </tr>\n",
       "  </tbody>\n",
       "</table>\n",
       "<p>6117 rows × 12 columns</p>\n",
       "</div>"
      ],
      "text/plain": [
       "                      id                                              boxes  \\\n",
       "0     000a312787f2_image  [{'x': 789.28836, 'y': 582.43035, 'width': 102...   \n",
       "1     000c3a3f293f_image                                                NaN   \n",
       "2     0012ff7358bc_image  [{'x': 677.42216, 'y': 197.97662, 'width': 867...   \n",
       "3     001398f4ff4f_image  [{'x': 2729, 'y': 2181.33331, 'width': 948.000...   \n",
       "4     001bd15d1891_image  [{'x': 623.23328, 'y': 1050, 'width': 714, 'he...   \n",
       "...                  ...                                                ...   \n",
       "6112  ffcc6edd9445_image                                                NaN   \n",
       "6113  ffd91a2c4ca0_image                                                NaN   \n",
       "6114  ffd9b6cf2961_image  [{'x': 2197.38566, 'y': 841.07361, 'width': 31...   \n",
       "6115  ffdc682f7680_image  [{'x': 2729.27083, 'y': 332.26044, 'width': 14...   \n",
       "6116  ffe942c8655f_image  [{'x': 208.86463, 'y': 91.53448, 'width': 450....   \n",
       "\n",
       "                                                  label StudyInstanceUID  \\\n",
       "0     opacity 1 789.28836 582.43035 1815.94498 2499....     5776db0cec75   \n",
       "1                                        none 1 0 0 1 1     ff0879eb20ed   \n",
       "2     opacity 1 677.42216 197.97662 1545.21983 1197....     9d514ce429a7   \n",
       "3       opacity 1 2729 2181.33331 3677.00012 2785.33331     28dddc8559b2   \n",
       "4     opacity 1 623.23328 1050 1337.23328 2156 opaci...     dfd9fdd85a3e   \n",
       "...                                                 ...              ...   \n",
       "6112                                     none 1 0 0 1 1     7e6c68462e06   \n",
       "6113                                     none 1 0 0 1 1     8332bdaddb6e   \n",
       "6114  opacity 1 2197.38566 841.07361 2513.80265 1292...     7eed9af03814   \n",
       "6115  opacity 1 2729.27083 332.26044 4225.52099 2936...     a0cb0b96fb3d   \n",
       "6116  opacity 1 208.86463 91.53448 659.8321 719.5892...     7d82d53204b8   \n",
       "\n",
       "         series_id  height  width  fold  Negative for Pneumonia  \\\n",
       "0     81456c9c5423    3488   4256     3                       0   \n",
       "1     d8a644cc4f93    2320   2832     3                       1   \n",
       "2     22897cd1daa0    2544   3056     1                       0   \n",
       "3     4d47bc042ee6    3520   4280     1                       0   \n",
       "4     49170afa4f27    2800   3408     1                       0   \n",
       "...            ...     ...    ...   ...                     ...   \n",
       "6112  98011bca5fd2    4240   3480     2                       1   \n",
       "6113  f346cda52da0    2800   3408     0                       1   \n",
       "6114  668a64e3a5fa    2388   3050     1                       0   \n",
       "6115  ccf363aa080f    3488   4256     3                       0   \n",
       "6116  431ee249d16b    1140   1387     3                       0   \n",
       "\n",
       "      Typical Appearance  Indeterminate Appearance  Atypical Appearance  \n",
       "0                      1                         0                    0  \n",
       "1                      0                         0                    0  \n",
       "2                      1                         0                    0  \n",
       "3                      0                         0                    1  \n",
       "4                      1                         0                    0  \n",
       "...                  ...                       ...                  ...  \n",
       "6112                   0                         0                    0  \n",
       "6113                   0                         0                    0  \n",
       "6114                   1                         0                    0  \n",
       "6115                   1                         0                    0  \n",
       "6116                   1                         0                    0  \n",
       "\n",
       "[6117 rows x 12 columns]"
      ]
     },
     "execution_count": 3,
     "metadata": {},
     "output_type": "execute_result"
    }
   ],
   "source": [
    "train = pd.read_csv(f'{DATA_ROOT}train_image_level_folded_v3.csv')\n",
    "train"
   ]
  },
  {
   "cell_type": "code",
   "execution_count": 4,
   "id": "b50c11b1",
   "metadata": {},
   "outputs": [],
   "source": [
    "os.makedirs(f'{DATA_ROOT}yolo_txt/',exist_ok=True)"
   ]
  },
  {
   "cell_type": "code",
   "execution_count": 5,
   "id": "cb563c0b",
   "metadata": {},
   "outputs": [],
   "source": [
    "for i in range(train.shape[0]):\n",
    "    a = train.loc[i,'id'].replace(\"_image\", \"\")\n",
    "    f = open(f'{DATA_ROOT}yolo_txt/{a}.txt', 'w')\n",
    "    b = train.loc[i, 'label'].split()\n",
    "    b_len = int(len(b) / 6)\n",
    "    if b[0] == 'none':\n",
    "        f.close()\n",
    "        continue   \n",
    "    dim1 = train.loc[i,'width']  # ?\n",
    "    dim0 = train.loc[i,'height']  # ?\n",
    "    for j in range(b_len):\n",
    "        x_mid = str((float(b[6*j+2]) + float(b[6*j+4])) / 2 / dim1)\n",
    "        y_mid = str((float(b[6*j+3]) + float(b[6*j+5])) / 2 / dim0)\n",
    "        w = str((float(b[6*j+4]) - float(b[6*j+2])) / dim1)\n",
    "        h = str((float(b[6*j+5]) - float(b[6*j+3])) / dim0)\n",
    "        f.write('0'+' '+x_mid +' '+y_mid+' '+w+' '+h+' ')\n",
    "        f.write('\\n')\n",
    "\n",
    "    f.close()"
   ]
  },
  {
   "cell_type": "code",
   "execution_count": 6,
   "id": "1df61f16",
   "metadata": {},
   "outputs": [
    {
     "data": {
      "text/html": [
       "<div>\n",
       "<style scoped>\n",
       "    .dataframe tbody tr th:only-of-type {\n",
       "        vertical-align: middle;\n",
       "    }\n",
       "\n",
       "    .dataframe tbody tr th {\n",
       "        vertical-align: top;\n",
       "    }\n",
       "\n",
       "    .dataframe thead th {\n",
       "        text-align: right;\n",
       "    }\n",
       "</style>\n",
       "<table border=\"1\" class=\"dataframe\">\n",
       "  <thead>\n",
       "    <tr style=\"text-align: right;\">\n",
       "      <th></th>\n",
       "      <th>id</th>\n",
       "      <th>boxes</th>\n",
       "      <th>label</th>\n",
       "      <th>StudyInstanceUID</th>\n",
       "      <th>series_id</th>\n",
       "      <th>height</th>\n",
       "      <th>width</th>\n",
       "      <th>fold</th>\n",
       "      <th>Negative for Pneumonia</th>\n",
       "      <th>Typical Appearance</th>\n",
       "      <th>Indeterminate Appearance</th>\n",
       "      <th>Atypical Appearance</th>\n",
       "      <th>image_path</th>\n",
       "    </tr>\n",
       "  </thead>\n",
       "  <tbody>\n",
       "    <tr>\n",
       "      <th>0</th>\n",
       "      <td>000a312787f2_image</td>\n",
       "      <td>[{'x': 789.28836, 'y': 582.43035, 'width': 102...</td>\n",
       "      <td>opacity 1 789.28836 582.43035 1815.94498 2499....</td>\n",
       "      <td>5776db0cec75</td>\n",
       "      <td>81456c9c5423</td>\n",
       "      <td>3488</td>\n",
       "      <td>4256</td>\n",
       "      <td>3</td>\n",
       "      <td>0</td>\n",
       "      <td>1</td>\n",
       "      <td>0</td>\n",
       "      <td>0</td>\n",
       "      <td>/raid/siim-covid19-detection/train_05/5776db0c...</td>\n",
       "    </tr>\n",
       "    <tr>\n",
       "      <th>1</th>\n",
       "      <td>000c3a3f293f_image</td>\n",
       "      <td>NaN</td>\n",
       "      <td>none 1 0 0 1 1</td>\n",
       "      <td>ff0879eb20ed</td>\n",
       "      <td>d8a644cc4f93</td>\n",
       "      <td>2320</td>\n",
       "      <td>2832</td>\n",
       "      <td>3</td>\n",
       "      <td>1</td>\n",
       "      <td>0</td>\n",
       "      <td>0</td>\n",
       "      <td>0</td>\n",
       "      <td>/raid/siim-covid19-detection/train_05/ff0879eb...</td>\n",
       "    </tr>\n",
       "    <tr>\n",
       "      <th>2</th>\n",
       "      <td>0012ff7358bc_image</td>\n",
       "      <td>[{'x': 677.42216, 'y': 197.97662, 'width': 867...</td>\n",
       "      <td>opacity 1 677.42216 197.97662 1545.21983 1197....</td>\n",
       "      <td>9d514ce429a7</td>\n",
       "      <td>22897cd1daa0</td>\n",
       "      <td>2544</td>\n",
       "      <td>3056</td>\n",
       "      <td>1</td>\n",
       "      <td>0</td>\n",
       "      <td>1</td>\n",
       "      <td>0</td>\n",
       "      <td>0</td>\n",
       "      <td>/raid/siim-covid19-detection/train_05/9d514ce4...</td>\n",
       "    </tr>\n",
       "    <tr>\n",
       "      <th>3</th>\n",
       "      <td>001398f4ff4f_image</td>\n",
       "      <td>[{'x': 2729, 'y': 2181.33331, 'width': 948.000...</td>\n",
       "      <td>opacity 1 2729 2181.33331 3677.00012 2785.33331</td>\n",
       "      <td>28dddc8559b2</td>\n",
       "      <td>4d47bc042ee6</td>\n",
       "      <td>3520</td>\n",
       "      <td>4280</td>\n",
       "      <td>1</td>\n",
       "      <td>0</td>\n",
       "      <td>0</td>\n",
       "      <td>0</td>\n",
       "      <td>1</td>\n",
       "      <td>/raid/siim-covid19-detection/train_05/28dddc85...</td>\n",
       "    </tr>\n",
       "    <tr>\n",
       "      <th>4</th>\n",
       "      <td>001bd15d1891_image</td>\n",
       "      <td>[{'x': 623.23328, 'y': 1050, 'width': 714, 'he...</td>\n",
       "      <td>opacity 1 623.23328 1050 1337.23328 2156 opaci...</td>\n",
       "      <td>dfd9fdd85a3e</td>\n",
       "      <td>49170afa4f27</td>\n",
       "      <td>2800</td>\n",
       "      <td>3408</td>\n",
       "      <td>1</td>\n",
       "      <td>0</td>\n",
       "      <td>1</td>\n",
       "      <td>0</td>\n",
       "      <td>0</td>\n",
       "      <td>/raid/siim-covid19-detection/train_05/dfd9fdd8...</td>\n",
       "    </tr>\n",
       "  </tbody>\n",
       "</table>\n",
       "</div>"
      ],
      "text/plain": [
       "                   id                                              boxes  \\\n",
       "0  000a312787f2_image  [{'x': 789.28836, 'y': 582.43035, 'width': 102...   \n",
       "1  000c3a3f293f_image                                                NaN   \n",
       "2  0012ff7358bc_image  [{'x': 677.42216, 'y': 197.97662, 'width': 867...   \n",
       "3  001398f4ff4f_image  [{'x': 2729, 'y': 2181.33331, 'width': 948.000...   \n",
       "4  001bd15d1891_image  [{'x': 623.23328, 'y': 1050, 'width': 714, 'he...   \n",
       "\n",
       "                                               label StudyInstanceUID  \\\n",
       "0  opacity 1 789.28836 582.43035 1815.94498 2499....     5776db0cec75   \n",
       "1                                     none 1 0 0 1 1     ff0879eb20ed   \n",
       "2  opacity 1 677.42216 197.97662 1545.21983 1197....     9d514ce429a7   \n",
       "3    opacity 1 2729 2181.33331 3677.00012 2785.33331     28dddc8559b2   \n",
       "4  opacity 1 623.23328 1050 1337.23328 2156 opaci...     dfd9fdd85a3e   \n",
       "\n",
       "      series_id  height  width  fold  Negative for Pneumonia  \\\n",
       "0  81456c9c5423    3488   4256     3                       0   \n",
       "1  d8a644cc4f93    2320   2832     3                       1   \n",
       "2  22897cd1daa0    2544   3056     1                       0   \n",
       "3  4d47bc042ee6    3520   4280     1                       0   \n",
       "4  49170afa4f27    2800   3408     1                       0   \n",
       "\n",
       "   Typical Appearance  Indeterminate Appearance  Atypical Appearance  \\\n",
       "0                   1                         0                    0   \n",
       "1                   0                         0                    0   \n",
       "2                   1                         0                    0   \n",
       "3                   0                         0                    1   \n",
       "4                   1                         0                    0   \n",
       "\n",
       "                                          image_path  \n",
       "0  /raid/siim-covid19-detection/train_05/5776db0c...  \n",
       "1  /raid/siim-covid19-detection/train_05/ff0879eb...  \n",
       "2  /raid/siim-covid19-detection/train_05/9d514ce4...  \n",
       "3  /raid/siim-covid19-detection/train_05/28dddc85...  \n",
       "4  /raid/siim-covid19-detection/train_05/dfd9fdd8...  "
      ]
     },
     "execution_count": 6,
     "metadata": {},
     "output_type": "execute_result"
    }
   ],
   "source": [
    "classes = ['0. opacity']\n",
    "train[f'image_path'] = f'{DATA_ROOT}train_05/' + train.StudyInstanceUID.astype(str) + \"/\" + train.series_id.astype(str) + \"/\" + train[\"id\"].str.replace(\"_image\", \"\") + \".png\"\n",
    "train.head()"
   ]
  },
  {
   "cell_type": "code",
   "execution_count": 7,
   "id": "40b28023",
   "metadata": {},
   "outputs": [
    {
     "name": "stdout",
     "output_type": "stream",
     "text": [
      "4896 1221\n",
      "4886 1231\n",
      "4892 1225\n",
      "4897 1220\n",
      "4897 1220\n"
     ]
    }
   ],
   "source": [
    "train_files = []\n",
    "val_files   = []\n",
    "for fold in range(5):\n",
    "\n",
    "    val_files += [list(train[train.fold==fold].image_path.unique())]\n",
    "    train_files += [list(train[train.fold!=fold].image_path.unique())]\n",
    "\n",
    "    \n",
    "    print(len(train_files[fold]), len(val_files[fold]))"
   ]
  },
  {
   "cell_type": "code",
   "execution_count": 8,
   "id": "faa3c05d",
   "metadata": {},
   "outputs": [
    {
     "data": {
      "text/plain": [
       "['/raid/siim-covid19-detection/train_05/2fa400b873f5/0d5c637b277d/0023f02ae886.png',\n",
       " '/raid/siim-covid19-detection/train_05/02e31620e4e7/fb593f9b0d03/0060e4f54aa8.png']"
      ]
     },
     "execution_count": 8,
     "metadata": {},
     "output_type": "execute_result"
    }
   ],
   "source": [
    "val_files[0][:2]"
   ]
  },
  {
   "cell_type": "code",
   "execution_count": 9,
   "id": "811150c4",
   "metadata": {},
   "outputs": [
    {
     "data": {
      "application/vnd.jupyter.widget-view+json": {
       "model_id": "0a234ff5022047419608b0b04f2d8926",
       "version_major": 2,
       "version_minor": 0
      },
      "text/plain": [
       "HBox(children=(HTML(value=''), FloatProgress(value=0.0, max=4896.0), HTML(value='')))"
      ]
     },
     "metadata": {},
     "output_type": "display_data"
    },
    {
     "name": "stdout",
     "output_type": "stream",
     "text": [
      "\n"
     ]
    },
    {
     "data": {
      "application/vnd.jupyter.widget-view+json": {
       "model_id": "237bf60e1b244a28aab5b519212987ff",
       "version_major": 2,
       "version_minor": 0
      },
      "text/plain": [
       "HBox(children=(HTML(value=''), FloatProgress(value=0.0, max=1221.0), HTML(value='')))"
      ]
     },
     "metadata": {},
     "output_type": "display_data"
    },
    {
     "name": "stdout",
     "output_type": "stream",
     "text": [
      "\n"
     ]
    },
    {
     "data": {
      "application/vnd.jupyter.widget-view+json": {
       "model_id": "29b1daff876b4b6cb9895188bc4a6830",
       "version_major": 2,
       "version_minor": 0
      },
      "text/plain": [
       "HBox(children=(HTML(value=''), FloatProgress(value=0.0, max=4886.0), HTML(value='')))"
      ]
     },
     "metadata": {},
     "output_type": "display_data"
    },
    {
     "name": "stdout",
     "output_type": "stream",
     "text": [
      "\n"
     ]
    },
    {
     "data": {
      "application/vnd.jupyter.widget-view+json": {
       "model_id": "38b0a24090f1488580989bb681d8b260",
       "version_major": 2,
       "version_minor": 0
      },
      "text/plain": [
       "HBox(children=(HTML(value=''), FloatProgress(value=0.0, max=1231.0), HTML(value='')))"
      ]
     },
     "metadata": {},
     "output_type": "display_data"
    },
    {
     "name": "stdout",
     "output_type": "stream",
     "text": [
      "\n"
     ]
    },
    {
     "data": {
      "application/vnd.jupyter.widget-view+json": {
       "model_id": "13ae42c76b5b4c55aacf87dcfd5e0e23",
       "version_major": 2,
       "version_minor": 0
      },
      "text/plain": [
       "HBox(children=(HTML(value=''), FloatProgress(value=0.0, max=4892.0), HTML(value='')))"
      ]
     },
     "metadata": {},
     "output_type": "display_data"
    },
    {
     "name": "stdout",
     "output_type": "stream",
     "text": [
      "\n"
     ]
    },
    {
     "data": {
      "application/vnd.jupyter.widget-view+json": {
       "model_id": "72fe3630ed7e4a7fa7342f88543bf814",
       "version_major": 2,
       "version_minor": 0
      },
      "text/plain": [
       "HBox(children=(HTML(value=''), FloatProgress(value=0.0, max=1225.0), HTML(value='')))"
      ]
     },
     "metadata": {},
     "output_type": "display_data"
    },
    {
     "name": "stdout",
     "output_type": "stream",
     "text": [
      "\n"
     ]
    },
    {
     "data": {
      "application/vnd.jupyter.widget-view+json": {
       "model_id": "d42a5e5d50ab4b759662ece5297af9ea",
       "version_major": 2,
       "version_minor": 0
      },
      "text/plain": [
       "HBox(children=(HTML(value=''), FloatProgress(value=0.0, max=4897.0), HTML(value='')))"
      ]
     },
     "metadata": {},
     "output_type": "display_data"
    },
    {
     "name": "stdout",
     "output_type": "stream",
     "text": [
      "\n"
     ]
    },
    {
     "data": {
      "application/vnd.jupyter.widget-view+json": {
       "model_id": "3cc743c53bab47b5a30c0dc2eee14c7b",
       "version_major": 2,
       "version_minor": 0
      },
      "text/plain": [
       "HBox(children=(HTML(value=''), FloatProgress(value=0.0, max=1220.0), HTML(value='')))"
      ]
     },
     "metadata": {},
     "output_type": "display_data"
    },
    {
     "name": "stdout",
     "output_type": "stream",
     "text": [
      "\n"
     ]
    },
    {
     "data": {
      "application/vnd.jupyter.widget-view+json": {
       "model_id": "b9c485ccf4f844c3b290bc2c2dd59aa9",
       "version_major": 2,
       "version_minor": 0
      },
      "text/plain": [
       "HBox(children=(HTML(value=''), FloatProgress(value=0.0, max=4897.0), HTML(value='')))"
      ]
     },
     "metadata": {},
     "output_type": "display_data"
    },
    {
     "name": "stdout",
     "output_type": "stream",
     "text": [
      "\n"
     ]
    },
    {
     "data": {
      "application/vnd.jupyter.widget-view+json": {
       "model_id": "698cb12fbdf84869b0714622a6e28b18",
       "version_major": 2,
       "version_minor": 0
      },
      "text/plain": [
       "HBox(children=(HTML(value=''), FloatProgress(value=0.0, max=1220.0), HTML(value='')))"
      ]
     },
     "metadata": {},
     "output_type": "display_data"
    },
    {
     "name": "stdout",
     "output_type": "stream",
     "text": [
      "\n"
     ]
    }
   ],
   "source": [
    "for fold in range(5):\n",
    "    os.makedirs(f'{DATA_ROOT}yolo_fold{fold}/labels/train', exist_ok = True)\n",
    "    os.makedirs(f'{DATA_ROOT}yolo_fold{fold}/labels/val', exist_ok = True)\n",
    "    os.makedirs(f'{DATA_ROOT}yolo_fold{fold}/images/train', exist_ok = True)\n",
    "    os.makedirs(f'{DATA_ROOT}yolo_fold{fold}/images/val', exist_ok = True)\n",
    "    label_dir = f'{DATA_ROOT}yolo_txt/'\n",
    "    for file in tqdm(train_files[fold]):\n",
    "        shutil.copy(file, f'{DATA_ROOT}yolo_fold{fold}/images/train')\n",
    "        filename = file.split('/')[-1].split('.')[0]\n",
    "        shutil.copy(os.path.join(label_dir, filename+'.txt'), f'{DATA_ROOT}yolo_fold{fold}/labels/train')\n",
    "\n",
    "    for file in tqdm(val_files[fold]):\n",
    "        shutil.copy(file, f'{DATA_ROOT}yolo_fold{fold}/images/val')\n",
    "        filename = file.split('/')[-1].split('.')[0]\n",
    "        shutil.copy(os.path.join(label_dir, filename+'.txt'), f'{DATA_ROOT}yolo_fold{fold}/labels/val')"
   ]
  },
  {
   "cell_type": "code",
   "execution_count": null,
   "id": "f24897a5",
   "metadata": {},
   "outputs": [],
   "source": []
  }
 ],
 "metadata": {
  "kernelspec": {
   "display_name": "Python 3 (ipykernel)",
   "language": "python",
   "name": "python3"
  },
  "language_info": {
   "codemirror_mode": {
    "name": "ipython",
    "version": 3
   },
   "file_extension": ".py",
   "mimetype": "text/x-python",
   "name": "python",
   "nbconvert_exporter": "python",
   "pygments_lexer": "ipython3",
   "version": "3.8.10"
  }
 },
 "nbformat": 4,
 "nbformat_minor": 5
}
