{
 "cells": [
  {
   "cell_type": "code",
   "execution_count": 10,
   "id": "afccfa96",
   "metadata": {},
   "outputs": [],
   "source": [
    "import pandas as pd\n",
    "import ast\n",
    "import seaborn as sns\n",
    "from tqdm import tqdm"
   ]
  },
  {
   "cell_type": "code",
   "execution_count": 2,
   "id": "9c277889",
   "metadata": {},
   "outputs": [],
   "source": [
    "train = pd.read_csv('/raid/siim-covid19-detection/train_image_level_folded_v2.csv')"
   ]
  },
  {
   "cell_type": "code",
   "execution_count": 4,
   "id": "119cf61c",
   "metadata": {},
   "outputs": [
    {
     "data": {
      "text/plain": [
       "0fd2db233deb    9\n",
       "a7335b2f9815    7\n",
       "8943d1d85097    6\n",
       "970c96c9fa5d    5\n",
       "a4e94133d95a    5\n",
       "               ..\n",
       "f0637f0d7719    1\n",
       "f0bfb67c18bc    1\n",
       "6a6071a3d542    1\n",
       "159c607b0f88    1\n",
       "51e626885505    1\n",
       "Name: StudyInstanceUID, Length: 6054, dtype: int64"
      ]
     },
     "execution_count": 4,
     "metadata": {},
     "output_type": "execute_result"
    }
   ],
   "source": [
    "train['StudyInstanceUID'].value_counts()"
   ]
  },
  {
   "cell_type": "code",
   "execution_count": 5,
   "id": "dacfa977",
   "metadata": {},
   "outputs": [
    {
     "data": {
      "text/plain": [
       "232"
      ]
     },
     "execution_count": 5,
     "metadata": {},
     "output_type": "execute_result"
    }
   ],
   "source": [
    "(train['StudyInstanceUID'].value_counts() > 1).sum()"
   ]
  },
  {
   "cell_type": "code",
   "execution_count": 20,
   "id": "38a58516",
   "metadata": {},
   "outputs": [
    {
     "data": {
      "text/plain": [
       "232"
      ]
     },
     "execution_count": 20,
     "metadata": {},
     "output_type": "execute_result"
    }
   ],
   "source": [
    "vcs = train['StudyInstanceUID'].value_counts()\n",
    "study_ids = vcs[vcs > 1].index.values\n",
    "len(study_ids)"
   ]
  },
  {
   "cell_type": "code",
   "execution_count": 8,
   "id": "36e94909",
   "metadata": {},
   "outputs": [
    {
     "data": {
      "text/html": [
       "<div>\n",
       "<style scoped>\n",
       "    .dataframe tbody tr th:only-of-type {\n",
       "        vertical-align: middle;\n",
       "    }\n",
       "\n",
       "    .dataframe tbody tr th {\n",
       "        vertical-align: top;\n",
       "    }\n",
       "\n",
       "    .dataframe thead th {\n",
       "        text-align: right;\n",
       "    }\n",
       "</style>\n",
       "<table border=\"1\" class=\"dataframe\">\n",
       "  <thead>\n",
       "    <tr style=\"text-align: right;\">\n",
       "      <th></th>\n",
       "      <th>id</th>\n",
       "      <th>boxes</th>\n",
       "      <th>label</th>\n",
       "      <th>StudyInstanceUID</th>\n",
       "      <th>series_id</th>\n",
       "      <th>height</th>\n",
       "      <th>width</th>\n",
       "      <th>fold</th>\n",
       "      <th>Negative for Pneumonia</th>\n",
       "      <th>Typical Appearance</th>\n",
       "      <th>Indeterminate Appearance</th>\n",
       "      <th>Atypical Appearance</th>\n",
       "    </tr>\n",
       "  </thead>\n",
       "  <tbody>\n",
       "    <tr>\n",
       "      <th>312</th>\n",
       "      <td>0bd6cd815ba9_image</td>\n",
       "      <td>NaN</td>\n",
       "      <td>none 1 0 0 1 1</td>\n",
       "      <td>8943d1d85097</td>\n",
       "      <td>b9820b7c6b80</td>\n",
       "      <td>1760</td>\n",
       "      <td>2140</td>\n",
       "      <td>2</td>\n",
       "      <td>0</td>\n",
       "      <td>1</td>\n",
       "      <td>0</td>\n",
       "      <td>0</td>\n",
       "    </tr>\n",
       "    <tr>\n",
       "      <th>1331</th>\n",
       "      <td>35e398a5a431_image</td>\n",
       "      <td>NaN</td>\n",
       "      <td>none 1 0 0 1 1</td>\n",
       "      <td>8943d1d85097</td>\n",
       "      <td>847da36d8859</td>\n",
       "      <td>1760</td>\n",
       "      <td>2140</td>\n",
       "      <td>2</td>\n",
       "      <td>0</td>\n",
       "      <td>1</td>\n",
       "      <td>0</td>\n",
       "      <td>0</td>\n",
       "    </tr>\n",
       "    <tr>\n",
       "      <th>2733</th>\n",
       "      <td>6f54e9cbd180_image</td>\n",
       "      <td>NaN</td>\n",
       "      <td>none 1 0 0 1 1</td>\n",
       "      <td>8943d1d85097</td>\n",
       "      <td>4d2a4e3f2904</td>\n",
       "      <td>1760</td>\n",
       "      <td>2140</td>\n",
       "      <td>2</td>\n",
       "      <td>0</td>\n",
       "      <td>1</td>\n",
       "      <td>0</td>\n",
       "      <td>0</td>\n",
       "    </tr>\n",
       "    <tr>\n",
       "      <th>4814</th>\n",
       "      <td>c3a09e8a600d_image</td>\n",
       "      <td>NaN</td>\n",
       "      <td>none 1 0 0 1 1</td>\n",
       "      <td>8943d1d85097</td>\n",
       "      <td>24f76a89447b</td>\n",
       "      <td>1760</td>\n",
       "      <td>2140</td>\n",
       "      <td>2</td>\n",
       "      <td>0</td>\n",
       "      <td>1</td>\n",
       "      <td>0</td>\n",
       "      <td>0</td>\n",
       "    </tr>\n",
       "    <tr>\n",
       "      <th>4845</th>\n",
       "      <td>c4b68b29a072_image</td>\n",
       "      <td>NaN</td>\n",
       "      <td>none 1 0 0 1 1</td>\n",
       "      <td>8943d1d85097</td>\n",
       "      <td>fdf2e4a2f7d5</td>\n",
       "      <td>1760</td>\n",
       "      <td>2140</td>\n",
       "      <td>2</td>\n",
       "      <td>0</td>\n",
       "      <td>1</td>\n",
       "      <td>0</td>\n",
       "      <td>0</td>\n",
       "    </tr>\n",
       "    <tr>\n",
       "      <th>4923</th>\n",
       "      <td>c7925ab50eb0_image</td>\n",
       "      <td>[{'x': 1265.90376, 'y': 571.61961, 'width': 37...</td>\n",
       "      <td>opacity 1 1265.90376 571.61961 1639.1595 1385....</td>\n",
       "      <td>8943d1d85097</td>\n",
       "      <td>5b9fdac1600e</td>\n",
       "      <td>1760</td>\n",
       "      <td>2140</td>\n",
       "      <td>2</td>\n",
       "      <td>0</td>\n",
       "      <td>1</td>\n",
       "      <td>0</td>\n",
       "      <td>0</td>\n",
       "    </tr>\n",
       "  </tbody>\n",
       "</table>\n",
       "</div>"
      ],
      "text/plain": [
       "                      id                                              boxes  \\\n",
       "312   0bd6cd815ba9_image                                                NaN   \n",
       "1331  35e398a5a431_image                                                NaN   \n",
       "2733  6f54e9cbd180_image                                                NaN   \n",
       "4814  c3a09e8a600d_image                                                NaN   \n",
       "4845  c4b68b29a072_image                                                NaN   \n",
       "4923  c7925ab50eb0_image  [{'x': 1265.90376, 'y': 571.61961, 'width': 37...   \n",
       "\n",
       "                                                  label StudyInstanceUID  \\\n",
       "312                                      none 1 0 0 1 1     8943d1d85097   \n",
       "1331                                     none 1 0 0 1 1     8943d1d85097   \n",
       "2733                                     none 1 0 0 1 1     8943d1d85097   \n",
       "4814                                     none 1 0 0 1 1     8943d1d85097   \n",
       "4845                                     none 1 0 0 1 1     8943d1d85097   \n",
       "4923  opacity 1 1265.90376 571.61961 1639.1595 1385....     8943d1d85097   \n",
       "\n",
       "         series_id  height  width  fold  Negative for Pneumonia  \\\n",
       "312   b9820b7c6b80    1760   2140     2                       0   \n",
       "1331  847da36d8859    1760   2140     2                       0   \n",
       "2733  4d2a4e3f2904    1760   2140     2                       0   \n",
       "4814  24f76a89447b    1760   2140     2                       0   \n",
       "4845  fdf2e4a2f7d5    1760   2140     2                       0   \n",
       "4923  5b9fdac1600e    1760   2140     2                       0   \n",
       "\n",
       "      Typical Appearance  Indeterminate Appearance  Atypical Appearance  \n",
       "312                    1                         0                    0  \n",
       "1331                   1                         0                    0  \n",
       "2733                   1                         0                    0  \n",
       "4814                   1                         0                    0  \n",
       "4845                   1                         0                    0  \n",
       "4923                   1                         0                    0  "
      ]
     },
     "execution_count": 8,
     "metadata": {},
     "output_type": "execute_result"
    }
   ],
   "source": [
    "train[train['StudyInstanceUID'] == '8943d1d85097']"
   ]
  },
  {
   "cell_type": "code",
   "execution_count": 24,
   "id": "319a45f3",
   "metadata": {},
   "outputs": [
    {
     "name": "stderr",
     "output_type": "stream",
     "text": [
      "100%|██████████| 232/232 [00:00<00:00, 525.59it/s]\n"
     ]
    }
   ],
   "source": [
    "bad_images = []\n",
    "for study_id in tqdm(study_ids):\n",
    "    df = train[train['StudyInstanceUID'] == study_id].copy()\n",
    "    nans = df['boxes'].isna()\n",
    "    n_nans = nans.sum()\n",
    "    if (n_nans > 0) and (n_nans < df.shape[0]):\n",
    "        bad_images += list(df[nans]['id'])"
   ]
  },
  {
   "cell_type": "code",
   "execution_count": 25,
   "id": "7c2497e5",
   "metadata": {},
   "outputs": [
    {
     "data": {
      "text/plain": [
       "217"
      ]
     },
     "execution_count": 25,
     "metadata": {},
     "output_type": "execute_result"
    }
   ],
   "source": [
    "len(bad_images)"
   ]
  },
  {
   "cell_type": "code",
   "execution_count": 26,
   "id": "9947553c",
   "metadata": {},
   "outputs": [
    {
     "data": {
      "text/plain": [
       "['04cc2f7f4c4b_image',\n",
       " '05c063f5cef5_image',\n",
       " '156cb1f5c689_image',\n",
       " '4c414b793562_image',\n",
       " 'a5a364383f34_image']"
      ]
     },
     "execution_count": 26,
     "metadata": {},
     "output_type": "execute_result"
    }
   ],
   "source": [
    "bad_images[:5]"
   ]
  },
  {
   "cell_type": "code",
   "execution_count": 23,
   "id": "091dea5a",
   "metadata": {},
   "outputs": [
    {
     "data": {
      "text/plain": [
       "'3795c5ddd545'"
      ]
     },
     "execution_count": 23,
     "metadata": {},
     "output_type": "execute_result"
    }
   ],
   "source": [
    "study_id"
   ]
  },
  {
   "cell_type": "code",
   "execution_count": 27,
   "id": "07d45e53",
   "metadata": {},
   "outputs": [
    {
     "data": {
      "text/plain": [
       "((6334, 12), (6117, 12))"
      ]
     },
     "execution_count": 27,
     "metadata": {},
     "output_type": "execute_result"
    }
   ],
   "source": [
    "train_fixed = train[~train['id'].isin(bad_images)].copy()\n",
    "train.shape, train_fixed.shape"
   ]
  },
  {
   "cell_type": "code",
   "execution_count": 29,
   "id": "d4c80dc3",
   "metadata": {},
   "outputs": [],
   "source": [
    "train_fixed.to_csv('/raid/siim-covid19-detection/train_image_level_folded_v3.csv', index=False)"
   ]
  },
  {
   "cell_type": "code",
   "execution_count": null,
   "id": "4dd44acc",
   "metadata": {},
   "outputs": [],
   "source": []
  }
 ],
 "metadata": {
  "kernelspec": {
   "display_name": "Python 3",
   "language": "python",
   "name": "python3"
  },
  "language_info": {
   "codemirror_mode": {
    "name": "ipython",
    "version": 3
   },
   "file_extension": ".py",
   "mimetype": "text/x-python",
   "name": "python",
   "nbconvert_exporter": "python",
   "pygments_lexer": "ipython3",
   "version": "3.8.10"
  }
 },
 "nbformat": 4,
 "nbformat_minor": 5
}
